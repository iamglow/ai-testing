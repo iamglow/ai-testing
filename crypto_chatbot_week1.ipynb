
{
 "cells": [
  {
   "cell_type": "markdown",
   "metadata": {},
   "source": [
    "# 💬 AI-Powered Crypto Advisor Chatbot\n",
    "Analyze cryptocurrency data and get investment advice based on profitability and sustainability."
   ]
  },
  {
   "cell_type": "code",
   "execution_count": null,
   "metadata": {},
   "outputs": [],
   "source": [
    "# === Sample Data: Predefined Cryptocurrency Dataset ===\n",
    "cryptos = [\n",
    "    {\n",
    "        \"name\": \"Bitcoin\",\n",
    "        \"symbol\": \"BTC\",\n",
    "        \"price_trend\": \"up\",\n",
    "        \"energy_usage\": \"high\",\n",
    "        \"project_viability\": \"strong\"\n",
    "    },\n",
    "    {\n",
    "        \"name\": \"Ethereum\",\n",
    "        \"symbol\": \"ETH\",\n",
    "        \"price_trend\": \"stable\",\n",
    "        \"energy_usage\": \"moderate\",\n",
    "        \"project_viability\": \"strong\"\n",
    "    },\n",
    "    {\n",
    "        \"name\": \"Dogecoin\",\n",
    "        \"symbol\": \"DOGE\",\n",
    "        \"price_trend\": \"down\",\n",
    "        \"energy_usage\": \"low\",\n",
    "        \"project_viability\": \"weak\"\n",
    "    },\n",
    "    {\n",
    "        \"name\": \"Solana\",\n",
    "        \"symbol\": \"SOL\",\n",
    "        \"price_trend\": \"up\",\n",
    "        \"energy_usage\": \"low\",\n",
    "        \"project_viability\": \"strong\"\n",
    "    },\n",
    "    {\n",
    "        \"name\": \"Litecoin\",\n",
    "        \"symbol\": \"LTC\",\n",
    "        \"price_trend\": \"down\",\n",
    "        \"energy_usage\": \"moderate\",\n",
    "        \"project_viability\": \"moderate\"\n",
    "    }\n",
    "]"
   ]
  },
  {
   "cell_type": "code",
   "execution_count": null,
   "metadata": {},
   "outputs": [],
   "source": [
    "# === Rule-Based Decision Function ===\n",
    "def get_crypto_advice(user_input):\n",
    "    for crypto in cryptos:\n",
    "        if crypto[\"name\"].lower() in user_input.lower() or crypto[\"symbol\"].lower() in user_input.lower():\n",
    "            name = crypto[\"name\"]\n",
    "            trend = crypto[\"price_trend\"]\n",
    "            energy = crypto[\"energy_usage\"]\n",
    "            viability = crypto[\"project_viability\"]\n",
    "\n",
    "            advice = f"\n🔎 Analysis for {name}:\n"\n",
    "            advice += f"- 📈 Price Trend: {trend.capitalize()}\n"\n",
    "            advice += f"- ⚡ Energy Usage: {energy.capitalize()}\n"\n",
    "            advice += f"- 🔗 Project Viability: {viability.capitalize()}\n"\n",
    "\n",
    "            if trend == \"up\" and viability == \"strong\" and energy != \"high\":\n",
    "                advice += \"✅ Recommendation: This crypto looks profitable and sustainable — a good investment opportunity.\\n\"\n",
    "            elif trend == \"down\" or viability == \"weak\":\n",
    "                advice += \"⚠️ Recommendation: Risky investment — consider avoiding or doing further research.\\n\"\n",
    "            else:\n",
    "                advice += \"🤔 Recommendation: Mixed signals — research more before making a decision.\\n\"\n",
    "\n",
    "            return advice\n",
    "    return \"❌ Sorry, I don't recognize that cryptocurrency. Try BTC, ETH, DOGE, SOL, or LTC.\""
   ]
  },
  {
   "cell_type": "code",
   "execution_count": null,
   "metadata": {},
   "outputs": [],
   "source": [
    "# === Chatbot Loop ===\n",
    "print(\"💬 Welcome to your AI-Powered Crypto Advisor!\")\n",
    "print(\"Type the name or symbol of a cryptocurrency (e.g., Bitcoin or BTC) or type 'exit' to quit.\\n\")\n",
    "\n",
    "while True:\n",
    "    user_input = input(\"You: \")\n",
    "    if user_input.lower() == \"exit\":\n",
    "        print(\"👋 Goodbye! Stay smart and invest wisely.\")\n",
    "        break\n",
    "    response = get_crypto_advice(user_input)\n",
    "    print(response)"
   ]
  }
 ],
 "metadata": {
  "kernelspec": {
   "display_name": "Python 3",
   "language": "python",
   "name": "python3"
  },
  "language_info": {
   "name": "python",
   "version": ""
  }
 },
 "nbformat": 4,
 "nbformat_minor": 2
}
